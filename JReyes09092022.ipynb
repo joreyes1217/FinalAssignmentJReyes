{
 "cells": [
  {
   "cell_type": "markdown",
   "id": "4bf0ab2e-3fe2-4607-9b6c-66572ff83ee6",
   "metadata": {},
   "source": [
    "# My Jupyter Notebook on IBM Watson Studio"
   ]
  },
  {
   "cell_type": "markdown",
   "id": "af7fd216-0e78-4722-a6d3-0bef7ac367b4",
   "metadata": {},
   "source": [
    "**Joanne Reyes**\n",
    ">Consultant "
   ]
  },
  {
   "cell_type": "markdown",
   "id": "2f3ac642-21cc-47c8-a599-389b806ac21a",
   "metadata": {},
   "source": [
    "*I am interested in Data Science because I am exploring how it can bring enhancements in Human Capital Management Tools. I also would like to broaden my skill set.*"
   ]
  },
  {
   "cell_type": "markdown",
   "id": "1317e8fa-5b5f-4f85-ba0a-dcd4f6fa8f38",
   "metadata": {},
   "source": [
    "### My code will simply do simple Math Operations."
   ]
  },
  {
   "cell_type": "code",
   "execution_count": 2,
   "id": "081cee41-1193-4d22-bc20-9823e0bcca22",
   "metadata": {},
   "outputs": [
    {
     "data": {
      "text/plain": [
       "31"
      ]
     },
     "execution_count": 2,
     "metadata": {},
     "output_type": "execute_result"
    }
   ],
   "source": [
    "(5*5)+(3+3)"
   ]
  },
  {
   "cell_type": "markdown",
   "id": "10ea2685-ce51-415f-ac9d-dc5470597149",
   "metadata": {},
   "source": [
    "The following links are good references when working on GitHub\n",
    "\n",
    "1. (https://docs.github.com/en/get-started/writing-on-github/)\n",
    "2. (https://github.com/adam-p/markdown-here/wiki)\n",
    "\n",
    "Check what you have learned so far.\n",
    "\n",
    "- [ ] Headings\n",
    "- [ ] Styling\n",
    "- [ ] Links\n",
    "- [ ] Images\n",
    "- [ ] More"
   ]
  }
 ],
 "metadata": {
  "kernelspec": {
   "display_name": "Python",
   "language": "python",
   "name": "conda-env-python-py"
  },
  "language_info": {
   "codemirror_mode": {
    "name": "ipython",
    "version": 3
   },
   "file_extension": ".py",
   "mimetype": "text/x-python",
   "name": "python",
   "nbconvert_exporter": "python",
   "pygments_lexer": "ipython3",
   "version": "3.7.12"
  }
 },
 "nbformat": 4,
 "nbformat_minor": 5
}
